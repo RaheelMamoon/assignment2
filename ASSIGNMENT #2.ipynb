{
 "cells": [
  {
   "cell_type": "code",
   "execution_count": 3,
   "metadata": {},
   "outputs": [
    {
     "name": "stdout",
     "output_type": "stream",
     "text": [
      "Enter a number: 34\n",
      "34 is Even\n"
     ]
    }
   ],
   "source": [
    "num = int(input(\"Enter a number: \"))\n",
    "if (num % 2) == 0:\n",
    "    print(\"{0} is Even\". format(num))\n",
    "else:\n",
    "    print(\"{0} is Odd\". format(num))\n",
    "    "
   ]
  },
  {
   "cell_type": "code",
   "execution_count": 9,
   "metadata": {},
   "outputs": [
    {
     "name": "stdout",
     "output_type": "stream",
     "text": [
      "The length of list is:   3\n"
     ]
    }
   ],
   "source": [
    "n = len([10 , 20, 30])\n",
    "print(\"The length of list is:  \", n)\n",
    "\n"
   ]
  },
  {
   "cell_type": "code",
   "execution_count": 10,
   "metadata": {},
   "outputs": [
    {
     "name": "stdout",
     "output_type": "stream",
     "text": [
      "20\n"
     ]
    }
   ],
   "source": [
    "def sum(numbers):\n",
    "    total = 0\n",
    "    for x in numbers:\n",
    "        total += x\n",
    "    return total\n",
    "print(sum((8, 2, 3, 0, 7)))"
   ]
  },
  {
   "cell_type": "code",
   "execution_count": 11,
   "metadata": {},
   "outputs": [
    {
     "name": "stdout",
     "output_type": "stream",
     "text": [
      "2\n"
     ]
    }
   ],
   "source": [
    "def max_num_in_list( list ):\n",
    "    max = list[ 0 ]\n",
    "    for a in list:\n",
    "        if a > max:\n",
    "            max = a\n",
    "    return max\n",
    "print(max_num_in_list([1, 2, -8, 0]))"
   ]
  },
  {
   "cell_type": "code",
   "execution_count": 12,
   "metadata": {},
   "outputs": [
    {
     "name": "stdout",
     "output_type": "stream",
     "text": [
      "[1, 1, 2, 3]\n"
     ]
    }
   ],
   "source": [
    "def elements_lessthan_five(l):\n",
    "    l1=[]\n",
    "    for i in l:\n",
    "        if i<5:\n",
    "            l1.append(i)\n",
    "            \n",
    "    return(l1)\n",
    "    \n",
    "print(elements_lessthan_five([1, 1, 2, 3, 5, 8, 13, 21, 34, 55, 89]))"
   ]
  },
  {
   "cell_type": "code",
   "execution_count": 3,
   "metadata": {},
   "outputs": [
    {
     "name": "stdout",
     "output_type": "stream",
     "text": [
      "Enter Roll: 4566\n",
      "Enter Name: Raheel Mamoon\n",
      "Enter marks of 5 subjects: \n",
      "Subject 1: 45\n",
      "Subject 2: 47\n",
      "Subject 3: 87\n",
      "Subject 4: 75\n",
      "Subject 5: 78\n",
      "4566 \t\t Raheel Mamoon \t\t 332 \t\t 66.4 \t\t B \t\t COMP.\n"
     ]
    }
   ],
   "source": [
    "class Student:\n",
    "    def __init__(self):\n",
    "        self.__roll=0\n",
    "        self.__name=\"\"\n",
    "        self.__marks=[]\n",
    "        self.__total=0\n",
    "        self.__per=0\n",
    "        self.__grade=\"\"\n",
    "        self.__result=\"\"\n",
    "\n",
    "    def setStudent(self):\n",
    "        self.__roll=int(input(\"Enter Roll: \"))\n",
    "        self.__name=input(\"Enter Name: \")\n",
    "        print(\"Enter marks of 5 subjects: \")\n",
    "        for i in range(5):\n",
    "            self.__marks.append(int(input(\"Subject \"+str(i+1)+\": \")))\n",
    "\t\t\t\n",
    "    def calculateTotal(self):\n",
    "        for x in self.__marks:\n",
    "            self.__total+=x\n",
    "\t\t\t\n",
    "    def calculatePercentage(self):\n",
    "        self.__per=self.__total/5\n",
    "\t\t\n",
    "    def calculateGrade(self):\n",
    "        if self.__per>=85:\n",
    "            self.__grade=\"S\"\n",
    "        elif self.__per>=75:\n",
    "            self.__grade=\"A\"\n",
    "        elif self.__per>=65:\n",
    "            self.__grade=\"B\"\n",
    "        elif self.__per>=55:\n",
    "            self.__grade=\"C\"\n",
    "        elif self.__per>=50:\n",
    "            self.__grade=\"D\"\n",
    "        else:\n",
    "            self.__grade=\"F\"\n",
    "\t\t\t\n",
    "    def calculateResult(self):\n",
    "        count=0\n",
    "        for x in self.__marks:\n",
    "            if x>=50:\n",
    "                count+=1\n",
    "        if count==5:\n",
    "            self.__result=\"PASS\"\n",
    "        elif count>=3:\n",
    "            self.__result=\"COMP.\"\n",
    "        else:\n",
    "            self.__result=\"FAIL\"\n",
    "\t\t\t\n",
    "    def showStudent(self):\n",
    "        self.calculateTotal()\n",
    "        self.calculatePercentage()\n",
    "        self.calculateGrade()\n",
    "        self.calculateResult()\n",
    "        print(self.__roll,\"\\t\\t\",self.__name,\"\\t\\t\",self.__total,\"\\t\\t\",self.__per,\"\\t\\t\",self.__grade,\"\\t\\t\",self.__result)\n",
    "\n",
    "\n",
    "def main():\n",
    "    #Student object\n",
    "    s=Student()\n",
    "    s.setStudent()\n",
    "    s.showStudent()\n",
    "\n",
    "if __name__==\"__main__\":\n",
    "    main()"
   ]
  },
  {
   "cell_type": "code",
   "execution_count": null,
   "metadata": {},
   "outputs": [],
   "source": []
  }
 ],
 "metadata": {
  "kernelspec": {
   "display_name": "Python 3",
   "language": "python",
   "name": "python3"
  },
  "language_info": {
   "codemirror_mode": {
    "name": "ipython",
    "version": 3
   },
   "file_extension": ".py",
   "mimetype": "text/x-python",
   "name": "python",
   "nbconvert_exporter": "python",
   "pygments_lexer": "ipython3",
   "version": "3.7.4"
  }
 },
 "nbformat": 4,
 "nbformat_minor": 2
}
